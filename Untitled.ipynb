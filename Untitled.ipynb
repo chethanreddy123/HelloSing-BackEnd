{
 "cells": [
  {
   "cell_type": "code",
   "execution_count": 1,
   "id": "16f83bb4",
   "metadata": {
    "scrolled": true
   },
   "outputs": [
    {
     "data": {
      "text/plain": [
       "Text(0, 0.5, 'Investment')"
      ]
     },
     "execution_count": 1,
     "metadata": {},
     "output_type": "execute_result"
    },
    {
     "data": {
      "image/png": "[encoded data removed]",
      "text/plain": [
       "<Figure size 432x288 with 1 Axes>"
      ]
     },
     "metadata": {
      "needs_background": "light"
     },
     "output_type": "display_data"
    }
   ],
   "source": [
    "invest=[3000,3400,4000,4700,5000,5600]\n",
    "profit=[650,670,770,800,860,950]\n",
    "import matplotlib.pyplot as plt\n",
    "plt.scatter(invest,profit,color='blue')\n",
    "plt.plot(invest, profit)\n",
    "plt.title('Profit Per Investment')\n",
    "plt.xlabel('Profit')\n",
    "plt.ylabel('Investment')"
   ]
  },
  {
   "cell_type": "code",
   "execution_count": 6,
   "id": "7b88fb7e",
   "metadata": {},
   "outputs": [
    {
     "data": {
      "text/html": [
       "<div>\n",
       "<style scoped>\n",
       "    .dataframe tbody tr th:only-of-type {\n",
       "        vertical-align: middle;\n",
       "    }\n",
       "\n",
       "    .dataframe tbody tr th {\n",
       "        vertical-align: top;\n",
       "    }\n",
       "\n",
       "    .dataframe thead th {\n",
       "        text-align: right;\n",
       "    }\n",
       "</style>\n",
       "<table border=\"1\" class=\"dataframe\">\n",
       "  <thead>\n",
       "    <tr style=\"text-align: right;\">\n",
       "      <th></th>\n",
       "      <th>invest</th>\n",
       "      <th>profit</th>\n",
       "    </tr>\n",
       "  </thead>\n",
       "  <tbody>\n",
       "    <tr>\n",
       "      <th>0</th>\n",
       "      <td>3000</td>\n",
       "      <td>650</td>\n",
       "    </tr>\n",
       "    <tr>\n",
       "      <th>1</th>\n",
       "      <td>3400</td>\n",
       "      <td>670</td>\n",
       "    </tr>\n",
       "    <tr>\n",
       "      <th>2</th>\n",
       "      <td>4000</td>\n",
       "      <td>770</td>\n",
       "    </tr>\n",
       "    <tr>\n",
       "      <th>3</th>\n",
       "      <td>4700</td>\n",
       "      <td>800</td>\n",
       "    </tr>\n",
       "    <tr>\n",
       "      <th>4</th>\n",
       "      <td>5000</td>\n",
       "      <td>860</td>\n",
       "    </tr>\n",
       "    <tr>\n",
       "      <th>5</th>\n",
       "      <td>5600</td>\n",
       "      <td>950</td>\n",
       "    </tr>\n",
       "  </tbody>\n",
       "</table>\n",
       "</div>"
      ],
      "text/plain": [
       "   invest  profit\n",
       "0    3000     650\n",
       "1    3400     670\n",
       "2    4000     770\n",
       "3    4700     800\n",
       "4    5000     860\n",
       "5    5600     950"
      ]
     },
     "execution_count": 6,
     "metadata": {},
     "output_type": "execute_result"
    }
   ],
   "source": [
    "import pandas as pd\n",
    "\n",
    "data = pd.DataFrame({\"invest\" : invest , \"profit\" : profit})\n",
    "data"
   ]
  },
  {
   "cell_type": "code",
   "execution_count": 7,
   "id": "6ccaf488",
   "metadata": {},
   "outputs": [
    {
     "data": {
      "text/plain": [
       "LinearRegression()"
      ]
     },
     "execution_count": 7,
     "metadata": {},
     "output_type": "execute_result"
    }
   ],
   "source": [
    "from sklearn.linear_model import LinearRegression\n",
    "Model = LinearRegression()\n",
    "Model.fit(data[['invest']], data['profit'])"
   ]
  },
  {
   "cell_type": "code",
   "execution_count": 17,
   "id": "5af51e18",
   "metadata": {},
   "outputs": [
    {
     "data": {
      "text/plain": [
       "array([0.11288468])"
      ]
     },
     "execution_count": 17,
     "metadata": {},
     "output_type": "execute_result"
    }
   ],
   "source": [
    "m = Model.coef_[0]\n",
    "Model.coef_"
   ]
  },
  {
   "cell_type": "code",
   "execution_count": 18,
   "id": "07892bed",
   "metadata": {},
   "outputs": [
    {
     "data": {
      "text/plain": [
       "299.81061887047713"
      ]
     },
     "execution_count": 18,
     "metadata": {},
     "output_type": "execute_result"
    }
   ],
   "source": [
    "b = Model.intercept_\n",
    "Model.intercept_"
   ]
  },
  {
   "cell_type": "code",
   "execution_count": 19,
   "id": "d69b0ade",
   "metadata": {},
   "outputs": [],
   "source": [
    "y = lambda x : m*x + b"
   ]
  },
  {
   "cell_type": "code",
   "execution_count": 20,
   "id": "a0a24663",
   "metadata": {},
   "outputs": [
    {
     "data": {
      "text/plain": [
       "[638.4646601285087,\n",
       " 683.6185322962463,\n",
       " 751.3493405478526,\n",
       " 830.3686168413934,\n",
       " 864.2340209671966,\n",
       " 931.9648292188028]"
      ]
     },
     "execution_count": 20,
     "metadata": {},
     "output_type": "execute_result"
    }
   ],
   "source": [
    "predict = []\n",
    "\n",
    "for i in invest:\n",
    "    predict.append(y(i))\n",
    "predict"
   ]
  },
  {
   "cell_type": "code",
   "execution_count": 26,
   "id": "4dcc8cff",
   "metadata": {},
   "outputs": [
    {
     "data": {
      "text/plain": [
       "Text(0, 0.5, 'Investment')"
      ]
     },
     "execution_count": 26,
     "metadata": {},
     "output_type": "execute_result"
    },
    {
     "data": {
      "image/png": "[encoded data removed]",
      "text/plain": [
       "<Figure size 432x288 with 1 Axes>"
      ]
     },
     "metadata": {
      "needs_background": "light"
     },
     "output_type": "display_data"
    }
   ],
   "source": [
    "plt.scatter(invest,profit,color='blue')\n",
    "plt.plot(invest, profit)\n",
    "plt.plot(invest, predict)\n",
    "plt.plot(future_invest,future_predict)\n",
    "plt.title('Profit Per Investment')\n",
    "plt.xlabel('Profit')\n",
    "plt.ylabel('Investment')"
   ]
  },
  {
   "cell_type": "code",
   "execution_count": 25,
   "id": "4fecfb09",
   "metadata": {},
   "outputs": [],
   "source": [
    "future_invest = [5500,6000, 7000, 8000, 9000]\n",
    "future_predict = [y(i) for i in future_invest]"
   ]
  },
  {
   "cell_type": "code",
   "execution_count": null,
   "id": "bba6a672",
   "metadata": {},
   "outputs": [],
   "source": []
  }
 ],
 "metadata": {
  "kernelspec": {
   "display_name": "Python 3 (ipykernel)",
   "language": "python",
   "name": "python3"
  },
  "language_info": {
   "codemirror_mode": {
    "name": "ipython",
    "version": 3
   },
   "file_extension": ".py",
   "mimetype": "text/x-python",
   "name": "python",
   "nbconvert_exporter": "python",
   "pygments_lexer": "ipython3",
   "version": "3.9.13"
  }
 },
 "nbformat": 4,
 "nbformat_minor": 5
}
